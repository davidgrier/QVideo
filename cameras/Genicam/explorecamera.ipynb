{
 "cells": [
  {
   "cell_type": "code",
   "execution_count": 1,
   "id": "85eb2fd8-d459-4fd0-9476-aa13e29b1daf",
   "metadata": {},
   "outputs": [],
   "source": [
    "from harvesters.core import Harvester"
   ]
  },
  {
   "cell_type": "code",
   "execution_count": 2,
   "id": "58b26328-ac71-41f2-89e5-cdfb67071d74",
   "metadata": {},
   "outputs": [
    {
     "data": {
      "text/plain": [
       "[]"
      ]
     },
     "execution_count": 2,
     "metadata": {},
     "output_type": "execute_result"
    }
   ],
   "source": [
    "h = Harvester()\n",
    "# h.add_file('Spinnaker_GenTL.cti')\n",
    "h.add_file('mvGenTLProducer.cti')\n",
    "h.update()\n",
    "h.device_info_list"
   ]
  },
  {
   "cell_type": "code",
   "execution_count": 3,
   "id": "b83b6ff9-e6fa-4757-af45-70acf26d96a9",
   "metadata": {},
   "outputs": [
    {
     "name": "stdout",
     "output_type": "stream",
     "text": [
      "True\n"
     ]
    }
   ],
   "source": [
    "d = h.create()\n",
    "print(d.is_valid())"
   ]
  },
  {
   "cell_type": "code",
   "execution_count": 6,
   "id": "68fa3028-3d33-4567-ade5-f8d1670e95ae",
   "metadata": {},
   "outputs": [],
   "source": [
    "node_map = d.remote_device.node_map"
   ]
  },
  {
   "cell_type": "code",
   "execution_count": 9,
   "id": "8e03432b-dc7e-4e8d-a6d0-9e5b93fa60d5",
   "metadata": {},
   "outputs": [],
   "source": [
    "gamma = node_map.get_node('Gamma')"
   ]
  },
  {
   "cell_type": "code",
   "execution_count": 13,
   "id": "b274ba1c-cb46-4c44-af74-e9bd966c3e00",
   "metadata": {},
   "outputs": [
    {
     "data": {
      "text/plain": [
       "'Controls the gamma correction of pixel intensity.'"
      ]
     },
     "execution_count": 13,
     "metadata": {},
     "output_type": "execute_result"
    }
   ],
   "source": [
    "gamma.node.tooltip"
   ]
  },
  {
   "cell_type": "code",
   "execution_count": null,
   "id": "6fff3f35-9696-4fa1-99da-bd252fd0eee8",
   "metadata": {},
   "outputs": [],
   "source": []
  }
 ],
 "metadata": {
  "kernelspec": {
   "display_name": "Python 3 (ipykernel)",
   "language": "python",
   "name": "python3"
  },
  "language_info": {
   "codemirror_mode": {
    "name": "ipython",
    "version": 3
   },
   "file_extension": ".py",
   "mimetype": "text/x-python",
   "name": "python",
   "nbconvert_exporter": "python",
   "pygments_lexer": "ipython3",
   "version": "3.10.16"
  }
 },
 "nbformat": 4,
 "nbformat_minor": 5
}
